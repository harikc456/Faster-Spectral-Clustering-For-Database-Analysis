{
 "cells": [
  {
   "cell_type": "code",
   "execution_count": 1,
   "metadata": {},
   "outputs": [],
   "source": [
    "import networkx as nx\n",
    "import numpy as np\n",
    "import matplotlib.pyplot as plt\n",
    "from sklearn.cluster import SpectralClustering,KMeans\n",
    "from itertools import combinations \n",
    "import mysql.connector\n",
    "from concurrent.futures import ThreadPoolExecutor\n",
    "from Linear_kmeans import KMeans\n",
    "from foreign_keys import *\n",
    "%matplotlib inline"
   ]
  },
  {
   "cell_type": "code",
   "execution_count": 2,
   "metadata": {},
   "outputs": [],
   "source": [
    "L_energy = None"
   ]
  },
  {
   "cell_type": "code",
   "execution_count": 3,
   "metadata": {},
   "outputs": [],
   "source": [
    "def norm(V):\n",
    "    return np.sqrt(np.sum(V**2))\n",
    "\n",
    "def spectral_clusters(weighted_adj_matrix,n_clusters):\n",
    "    #creating graph from weighted adjacency matrix\n",
    "    graph = nx.convert_matrix.from_numpy_matrix(weighted_adj_matrix)\n",
    "    \n",
    "    #Finding Normalized Laplacian matrix of the given adjacency matrix\n",
    "    nlm = nx.normalized_laplacian_matrix(H).toarray()\n",
    "    #Finding eigenvalue and eigenvectors\n",
    "    val,vec = np.linalg.eig(nlm)\n",
    "\n",
    "    # Sort eigenvectors,eigenvalues in ascending order\n",
    "    sort_eigval, sort_eigvec = zip(*sorted(zip(val,vec))[1:])\n",
    "    sort_eigvec = np.array(sort_eigvec)\n",
    "    U = sort_eigvec.T\n",
    "    U = np.array([U[i]/norm(U[i]) for i in range(U.shape[0])])\n",
    "    kmean = KMeans(k=n_clusters)\n",
    "    kmean.fit(U)\n",
    "    return kmean.predict(U)"
   ]
  },
  {
   "cell_type": "code",
   "execution_count": 4,
   "metadata": {},
   "outputs": [],
   "source": [
    "def get_centrality(i):\n",
    "    vertex = weighted_adj_matrix[i]\n",
    "    vertex_col = weighted_adj_matrix[:i]\n",
    "    mid_walk_comb = combinations(vertex[vertex!=0], 2) \n",
    "    two_closed_walk = [weight*weight for weight in vertex]\n",
    "    two_mid_walk = [i[0]*i[1] for i in mid_walk_comb]\n",
    "    two_open_walk = [adj_matrix[pos][vertex!=0] * w for pos,w in enumerate(vertex) if w!=0]\n",
    "    delta_e = 4 * np.sum(two_closed_walk) + 2 * np.sum(two_mid_walk) + 2 * np.sum(two_open_walk)\n",
    "    centrality = delta_e/L_energy\n",
    "    return centrality"
   ]
  },
  {
   "cell_type": "code",
   "execution_count": 5,
   "metadata": {},
   "outputs": [],
   "source": [
    "def get_edge_weights(v1,v2):\n",
    "    edge_name = v1+'-'+v2 \n",
    "    query='SELECT * FROM '+v1+' INNER JOIN '+v2+' ON '+v1+'.'+foreign_keys[edge_name][v1]+'='+v2+'.'+foreign_keys[edge_name][v2]\n",
    "    mycursor.execute(query)\n",
    "    myresult = mycursor.fetchall()\n",
    "    return len(myresult)"
   ]
  },
  {
   "cell_type": "code",
   "execution_count": 6,
   "metadata": {},
   "outputs": [],
   "source": [
    "def laplacian_centrality(weighted_adj_matrix):\n",
    "    #creating graph from weighted adjacency matrix\n",
    "    graph = nx.convert_matrix.from_numpy_matrix(weighted_adj_matrix)\n",
    "    \n",
    "    #Finding Laplacian matrix of the given adjacency matrix\n",
    "    lm = nx.laplacian_matrix(graph).toarray()\n",
    "    \n",
    "    #Finding eigenvalue and eigenvectors\n",
    "    val,vec = np.linalg.eig(lm)\n",
    "\n",
    "    #Computing Laplacian energy\n",
    "    laplacian_energy = sum([v*v for v in val])\n",
    "    global L_energy\n",
    "    L_energy = laplacian_energy\n",
    "    centralities = []\n",
    "    with ThreadPoolExecutor(max_workers=weighted_adj_matrix.shape[0]) as executor:\n",
    "        nodes = [i for i in range(weighted_adj_matrix.shape[0])]\n",
    "        for centrality in executor.map(get_centrality,nodes):\n",
    "            centralities.append(centrality)\n",
    "    \n",
    "    return zip(node_name_list,centralities)"
   ]
  },
  {
   "cell_type": "code",
   "execution_count": 7,
   "metadata": {},
   "outputs": [
    {
     "data": {
      "text/plain": [
       "(8, 8)"
      ]
     },
     "execution_count": 7,
     "metadata": {},
     "output_type": "execute_result"
    }
   ],
   "source": [
    "adj_matrix = np.array([[0,1,0,1,1,1,0,0],\n",
    "                       [1,0,1,1,1,0,1,1],\n",
    "                       [0,1,0,0,0,1,0,0],\n",
    "                       [1,1,0,0,0,0,0,0],\n",
    "                       [1,1,0,0,0,0,0,0],\n",
    "                       [1,0,1,0,0,0,0,0],\n",
    "                       [0,1,0,0,0,0,0,0],\n",
    "                       [0,1,0,0,0,0,0,0]])\n",
    "adj_matrix.shape"
   ]
  },
  {
   "cell_type": "code",
   "execution_count": 8,
   "metadata": {},
   "outputs": [],
   "source": [
    "graph = nx.convert_matrix.from_numpy_matrix(adj_matrix)\n",
    "node_name_map = {  0:  'post',\n",
    "                   1: 'users',\n",
    "                   2: 'followers',\n",
    "                   3: 'comment',\n",
    "                   4: 'likes',\n",
    "                   5: 'categories',\n",
    "                   6: 'bookmarks',\n",
    "                   7: 'user_uploads'} \n",
    "mapping = node_name_map\n",
    "H = nx.relabel_nodes(graph, mapping)"
   ]
  },
  {
   "cell_type": "code",
   "execution_count": 9,
   "metadata": {},
   "outputs": [],
   "source": [
    "mydb = mysql.connector.connect(\n",
    "  host=\"localhost\",\n",
    "  user=\"root\",\n",
    "  passwd=\"\",\n",
    "  database=\"mc\"\n",
    ")\n",
    "mycursor = mydb.cursor()"
   ]
  },
  {
   "cell_type": "code",
   "execution_count": 10,
   "metadata": {},
   "outputs": [],
   "source": [
    "node_name_list = list(node_name_map.values())\n",
    "weighted_adj_matrix = np.full(adj_matrix.shape,-1)\n",
    "for vec_pos,vec in enumerate(adj_matrix):\n",
    "    for val_pos,val in enumerate(vec):\n",
    "        if val!=0 and weighted_adj_matrix[vec_pos][val_pos] == -1:\n",
    "            weight = get_edge_weights(node_name_list[vec_pos],node_name_list[val_pos])\n",
    "            weighted_adj_matrix[vec_pos][val_pos] = weight\n",
    "            weighted_adj_matrix[val_pos][vec_pos] = weight\n",
    "weighted_adj_matrix[weighted_adj_matrix==-1] = 0"
   ]
  },
  {
   "cell_type": "code",
   "execution_count": 11,
   "metadata": {},
   "outputs": [
    {
     "name": "stdout",
     "output_type": "stream",
     "text": [
      "('post', 0.5613470697623728)\n",
      "('users', 0.33114069708633925)\n",
      "('followers', 0.0012959499064575612)\n",
      "('comment', 0.0)\n",
      "('likes', 0.534471739689017)\n",
      "('categories', 0.20849954026638162)\n",
      "('bookmarks', 0.021692250788070782)\n",
      "('user_uploads', 0.0037525281720911085)\n"
     ]
    }
   ],
   "source": [
    "for i in laplacian_centrality(weighted_adj_matrix):\n",
    "    print(i)"
   ]
  },
  {
   "cell_type": "code",
   "execution_count": 15,
   "metadata": {},
   "outputs": [
    {
     "name": "stdout",
     "output_type": "stream",
     "text": [
      "Epoch 0 Loss = 0.8775497029442638\n",
      "Epoch 1 Loss = 1.1191855756210131e-05\n",
      "['post' 'users' 'followers']\n",
      "['comment' 'likes' 'categories' 'bookmarks' 'user_uploads']\n"
     ]
    },
    {
     "name": "stderr",
     "output_type": "stream",
     "text": [
      "C:\\Users\\HARIKRISHNAN\\Scalable\\Distributed Database\\Linear_kmeans.py:16: RuntimeWarning: invalid value encountered in double_scalars\n",
      "  return (np.sum(centroid - point)**n)**(1/n)\n"
     ]
    }
   ],
   "source": [
    "n_clusters = 2\n",
    "try:\n",
    "    clusters = spectral_clusters(weighted_adj_matrix,n_clusters)\n",
    "    for c in range(n_clusters):\n",
    "        print(np.array(list(node_name_map.values()))[clusters==c])\n",
    "except:\n",
    "    print(\"Please reduce the number of clusters or try calling the function again\")"
   ]
  },
  {
   "cell_type": "code",
   "execution_count": null,
   "metadata": {},
   "outputs": [],
   "source": []
  },
  {
   "cell_type": "code",
   "execution_count": null,
   "metadata": {},
   "outputs": [],
   "source": []
  }
 ],
 "metadata": {
  "kernelspec": {
   "display_name": "deep",
   "language": "python",
   "name": "deep"
  },
  "language_info": {
   "codemirror_mode": {
    "name": "ipython",
    "version": 3
   },
   "file_extension": ".py",
   "mimetype": "text/x-python",
   "name": "python",
   "nbconvert_exporter": "python",
   "pygments_lexer": "ipython3",
   "version": "3.6.10"
  }
 },
 "nbformat": 4,
 "nbformat_minor": 2
}
